{
 "cells": [
  {
   "cell_type": "markdown",
   "metadata": {},
   "source": [
    "# A Very very Basic BASH tutorial\n",
    "\n",
    "This very basic tutorial is to introcuce a complete novice in the use of bash. The idea is that the person will be able to move around the Compute canada Clusters and be more or less comfortable with it. It is by no means comprehensive nor is going to make you a bash ninja, but it will allow you to deal with clusters, and some minor manipulations.\n",
    "\n",
    "\n",
    "## Don't be afraid of the terminal\n",
    "\n",
    "The terminal is your friend, and you'll see why. The terminal is the way we talk directly to the computer without windows and cliking. It looks something like this:\n",
    "\n",
    "<img src=\"files/images/Terminal.png\" width=\"500px\">\n",
    "\n",
    "If you work in windows you will need to install an ssh-enabled terminal like [mobaxterm](https://mobaxterm.mobatek.net/) or [putty](https://www.putty.org/). This tutorial will asume you already have installed and read the instructions of your terminal.\n",
    "\n",
    "For MAC and linux users, just search for terminal, and voila!\n",
    "\n",
    "## SSH: Connecting to the cluster\n",
    "Since most of this tutorial is meant to help you use the Compute Canada clusters, I'll start with the connection. SSH stands for Secure SHell (shell is the terminal), and you just have to type `ssh username@clustername.computecanada.ca`, where `username` is your own username in Compute Canada and `clustername` is the name of the cluster. I believe most of use use Graham or Cedar. In this tutorial I'll assume we will be working in graham. "
   ]
  },
  {
   "cell_type": "code",
   "execution_count": 1,
   "metadata": {
    "scrolled": true
   },
   "outputs": [
    {
     "name": "stderr",
     "output_type": "stream",
     "text": [
      "Pseudo-terminal will not be allocated because stdin is not a terminal.\r\n",
      "ssh: Could not resolve hostname graham.computecanada: Name or service not known\r\n"
     ]
    }
   ],
   "source": [
    "%%bash\n",
    "ssh jshleap@graham.computecanada"
   ]
  },
  {
   "cell_type": "markdown",
   "metadata": {},
   "source": [
    "Once you have typed your password, you are in the cluster!!!\n",
    "\n",
    "\n",
    "## Moving around the cluster\n",
    "If you only have a single Role (seehttps://ccdb.computecanada.ca/me/faq#what_is_role for the definition) and if you have never worked in this account before you should have two folders inside your account. To see the folders or the content of anything, we will need to ask the terminal to list the contents:"
   ]
  },
  {
   "cell_type": "code",
   "execution_count": 4,
   "metadata": {},
   "outputs": [
    {
     "name": "stdout",
     "output_type": "stream",
     "text": [
      "Bash Tutorial.ipynb  \u001b[0m\u001b[01;34mimages\u001b[0m/  README.md  Slurm_vs_PBS.ipynb\r\n"
     ]
    }
   ],
   "source": [
    "ls"
   ]
  },
  {
   "cell_type": "markdown",
   "metadata": {},
   "source": [
    "To move to a directory you need to use the change directory command `cd`"
   ]
  },
  {
   "cell_type": "code",
   "execution_count": 5,
   "metadata": {},
   "outputs": [
    {
     "name": "stdout",
     "output_type": "stream",
     "text": [
      "/home/jshleap/my_gits/CristescuLab_misc/images\n"
     ]
    }
   ],
   "source": [
    "cd images\n"
   ]
  },
  {
   "cell_type": "code",
   "execution_count": 6,
   "metadata": {},
   "outputs": [
    {
     "name": "stdout",
     "output_type": "stream",
     "text": [
      "\u001b[0m\u001b[01;35mTerminal.png\u001b[0m\r\n"
     ]
    }
   ],
   "source": [
    "ls\n"
   ]
  },
  {
   "cell_type": "markdown",
   "metadata": {},
   "source": [
    "Compute Canada clusters work with Unix operating systems (Not windows). This means that there are a few different things. The way the terminal knows where you want to go i thorugh the path. Paths are just a road map to the location you want to be in.  For example, lets imagine that we would like to go to a subdirectory called tutorial from my hme directory, there are two ways to do this:"
   ]
  },
  {
   "cell_type": "code",
   "execution_count": 7,
   "metadata": {},
   "outputs": [
    {
     "name": "stdout",
     "output_type": "stream",
     "text": [
      "[Errno 2] No such file or directory: '/home/tutorial'\n",
      "/home/jshleap/my_gits/CristescuLab_misc/images\n"
     ]
    }
   ],
   "source": [
    "cd /home/jshleap/tutorial"
   ]
  },
  {
   "cell_type": "code",
   "execution_count": 8,
   "metadata": {},
   "outputs": [
    {
     "name": "stdout",
     "output_type": "stream",
     "text": [
      "[Errno 2] No such file or directory: '/home/jshleap/tutorial'\n",
      "/home/jshleap/my_gits/CristescuLab_misc/images\n"
     ]
    }
   ],
   "source": [
    "cd ~/tutorial"
   ]
  },
  {
   "cell_type": "markdown",
   "metadata": {},
   "source": [
    "The tilde (~) is a code for your home directory. In this notebook it fails because in my desktop this folder does not exist. So let's create one!!!"
   ]
  },
  {
   "cell_type": "code",
   "execution_count": 9,
   "metadata": {},
   "outputs": [],
   "source": [
    "mkdir ~/tutorial # this command tell the computer to create a folder named tutorial in your home directory"
   ]
  },
  {
   "cell_type": "markdown",
   "metadata": {},
   "source": [
    "now we can move to that folder:"
   ]
  },
  {
   "cell_type": "code",
   "execution_count": 12,
   "metadata": {},
   "outputs": [
    {
     "name": "stdout",
     "output_type": "stream",
     "text": [
      "/home/jshleap/tutorial\n"
     ]
    }
   ],
   "source": [
    "cd ~/tutorial"
   ]
  },
  {
   "cell_type": "markdown",
   "metadata": {},
   "source": [
    "If you list the contents here with `ls` as before, you will notice that it is an empty folder"
   ]
  },
  {
   "cell_type": "code",
   "execution_count": 13,
   "metadata": {},
   "outputs": [],
   "source": [
    "ls"
   ]
  },
  {
   "cell_type": "markdown",
   "metadata": {},
   "source": [
    "Now lets create an empty file using `touch`. This is not the most useful command, but allow you to know if you can write in the folder you are in, among other minial things."
   ]
  },
  {
   "cell_type": "code",
   "execution_count": 2,
   "metadata": {},
   "outputs": [],
   "source": [
    "touch afile.txt "
   ]
  },
  {
   "cell_type": "markdown",
   "metadata": {},
   "source": [
    "Now if you type `ls` again, the afile.txt should appear. Lets try to edit this file. There are many tools, and depending on how you are sshing into the clusters they might change. I will focus in the native reader of unix **nano**:"
   ]
  },
  {
   "cell_type": "code",
   "execution_count": null,
   "metadata": {},
   "outputs": [],
   "source": [
    "nano afile.txt"
   ]
  },
  {
   "cell_type": "markdown",
   "metadata": {},
   "source": [
    "You should see something like this:\n",
    "<img src=\"files/images/nano.png\" width=\"500px\">\n",
    "You can write anything you want there. Lets try just typing \"this is a test file\". To close and save you have to press the ``ctrl + x``. It will ask you if you want to save what you just write, type `Y` and `enter`.\n",
    "So you might be asking if you have to open nano everytime you need to read the file without modyfying it? The answer is no. There are a few commands you can use:\n",
    "* cat if your file is small\n",
    "* head if you want to see the first few lines of your file\n",
    "* tail if you want to see the last few lines of your file\n",
    "If you execute `cat afile.txt` it will show you what you just wrote. Cat will output the entire content of the file to screen. That is why is only wise to use it in small files or for certain manipulations (outside of the scope of this tutorial). The same way we can use head `head afile.txt` and tail `tail afile.txt`. In the litle single line file, all three commands should show exactly the same.\n",
    "\n",
    "Now, we need a more substantial files to play around with, so let's download one from the web directly into the cluster!!! For this we will use the command `wget`:"
   ]
  },
  {
   "cell_type": "code",
   "execution_count": null,
   "metadata": {},
   "outputs": [],
   "source": []
  }
 ],
 "metadata": {
  "kernelspec": {
   "display_name": "Python 3",
   "language": "python",
   "name": "python3"
  },
  "language_info": {
   "codemirror_mode": {
    "name": "ipython",
    "version": 3
   },
   "file_extension": ".py",
   "mimetype": "text/x-python",
   "name": "python",
   "nbconvert_exporter": "python",
   "pygments_lexer": "ipython3",
   "version": "3.5.2"
  }
 },
 "nbformat": 4,
 "nbformat_minor": 2
}
