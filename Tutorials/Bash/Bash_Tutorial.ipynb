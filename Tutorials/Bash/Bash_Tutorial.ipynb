{
 "cells": [
  {
   "cell_type": "markdown",
   "metadata": {},
   "source": [
    "# A Very very Basic BASH tutorial\n",
    "\n",
    "This very basic tutorial is to introcuce a complete novice in the use of bash. The idea is that the person will be able to move around the Compute canada Clusters and be more or less comfortable with it. It is by no means comprehensive nor is going to make you a bash ninja, but it will allow you to deal with clusters, and some minor manipulations.\n",
    "\n",
    "\n",
    "## Don't be afraid of the terminal\n",
    "\n",
    "The terminal is your friend, and you'll see why. The terminal is the way we talk directly to the computer without windows and cliking. It looks something like this:\n",
    "\n",
    "<img src=\"files/images/Terminal.png\" width=\"500px\">\n",
    "\n",
    "If you work in windows you will need to install an ssh-enabled terminal like [mobaxterm](https://mobaxterm.mobatek.net/) or [putty](https://www.putty.org/). This tutorial will asume you already have installed and read the instructions of your terminal.\n",
    "\n",
    "For MAC and linux users, just search for terminal, and voila!\n",
    "\n",
    "## SSH: Connecting to the cluster\n",
    "Since most of this tutorial is meant to help you use the Compute Canada clusters, I'll start with the connection. SSH stands for Secure SHell (shell is the terminal), and you just have to type `ssh username@clustername.computecanada.ca`, where `username` is your own username in Compute Canada and `clustername` is the name of the cluster. I believe most of use use Graham or Cedar. In this tutorial I'll assume we will be working in graham. "
   ]
  },
  {
   "cell_type": "code",
   "execution_count": 1,
   "metadata": {
    "scrolled": true
   },
   "outputs": [
    {
     "name": "stderr",
     "output_type": "stream",
     "text": [
      "Pseudo-terminal will not be allocated because stdin is not a terminal.\r\n",
      "ssh: Could not resolve hostname graham.computecanada: Name or service not known\r\n"
     ]
    }
   ],
   "source": [
    "ssh jshleap@graham.computecanada.ca"
   ]
  },
  {
   "cell_type": "markdown",
   "metadata": {},
   "source": [
    "Once you have typed your password, you are in the cluster!!!\n",
    "\n",
    "\n",
    "## Moving around the cluster\n",
    "If you only have a single Role (seehttps://ccdb.computecanada.ca/me/faq#what_is_role for the definition) and if you have never worked in this account before you should have two folders inside your account. To see the folders or the content of anything, we will need to ask the terminal to list the contents:"
   ]
  },
  {
   "cell_type": "code",
   "execution_count": 4,
   "metadata": {},
   "outputs": [
    {
     "name": "stdout",
     "output_type": "stream",
     "text": [
      "Bash Tutorial.ipynb  \u001b[0m\u001b[01;34mimages\u001b[0m/  README.md  Slurm_vs_PBS.ipynb\r\n"
     ]
    }
   ],
   "source": [
    "ls"
   ]
  },
  {
   "cell_type": "markdown",
   "metadata": {},
   "source": [
    "To move to a directory you need to use the change directory command `cd`"
   ]
  },
  {
   "cell_type": "code",
   "execution_count": 5,
   "metadata": {},
   "outputs": [
    {
     "name": "stdout",
     "output_type": "stream",
     "text": [
      "/home/jshleap/my_gits/CristescuLab_misc/images\n"
     ]
    }
   ],
   "source": [
    "cd images\n"
   ]
  },
  {
   "cell_type": "code",
   "execution_count": 6,
   "metadata": {},
   "outputs": [
    {
     "name": "stdout",
     "output_type": "stream",
     "text": [
      "\u001b[0m\u001b[01;35mTerminal.png\u001b[0m\r\n"
     ]
    }
   ],
   "source": [
    "ls\n"
   ]
  },
  {
   "cell_type": "markdown",
   "metadata": {},
   "source": [
    "Compute Canada clusters work with Unix operating systems (Not windows). This means that there are a few different things. The way the terminal knows where you want to go i thorugh the path. Paths are just a road map to the location you want to be in.  For example, lets imagine that we would like to go to a subdirectory called tutorial from my hme directory, there are two ways to do this:"
   ]
  },
  {
   "cell_type": "code",
   "execution_count": 7,
   "metadata": {},
   "outputs": [
    {
     "name": "stdout",
     "output_type": "stream",
     "text": [
      "[Errno 2] No such file or directory: '/home/tutorial'\n",
      "/home/jshleap/my_gits/CristescuLab_misc/images\n"
     ]
    }
   ],
   "source": [
    "cd /home/jshleap/tutorial"
   ]
  },
  {
   "cell_type": "code",
   "execution_count": 8,
   "metadata": {},
   "outputs": [
    {
     "name": "stdout",
     "output_type": "stream",
     "text": [
      "[Errno 2] No such file or directory: '/home/jshleap/tutorial'\n",
      "/home/jshleap/my_gits/CristescuLab_misc/images\n"
     ]
    }
   ],
   "source": [
    "cd ~/tutorial"
   ]
  },
  {
   "cell_type": "markdown",
   "metadata": {},
   "source": [
    "The tilde (~) is a code for your home directory. In this notebook it fails because in my desktop this folder does not exist. So let's create one!!!"
   ]
  },
  {
   "cell_type": "code",
   "execution_count": 9,
   "metadata": {},
   "outputs": [],
   "source": [
    "mkdir ~/tutorial # this command tell the computer to create a folder named tutorial in your home directory"
   ]
  },
  {
   "cell_type": "markdown",
   "metadata": {},
   "source": [
    "now we can move to that folder:"
   ]
  },
  {
   "cell_type": "code",
   "execution_count": 12,
   "metadata": {},
   "outputs": [
    {
     "name": "stdout",
     "output_type": "stream",
     "text": [
      "/home/jshleap/tutorial\n"
     ]
    }
   ],
   "source": [
    "cd ~/tutorial"
   ]
  },
  {
   "cell_type": "markdown",
   "metadata": {},
   "source": [
    "If you list the contents here with `ls` as before, you will notice that it is an empty folder"
   ]
  },
  {
   "cell_type": "code",
   "execution_count": 13,
   "metadata": {},
   "outputs": [],
   "source": [
    "ls"
   ]
  },
  {
   "cell_type": "markdown",
   "metadata": {},
   "source": [
    "Now lets create an empty file using `touch`. This is not the most useful command, but allow you to know if you can write in the folder you are in, among other minial things."
   ]
  },
  {
   "cell_type": "code",
   "execution_count": 2,
   "metadata": {},
   "outputs": [],
   "source": [
    "touch afile.txt "
   ]
  },
  {
   "cell_type": "markdown",
   "metadata": {},
   "source": [
    "Now if you type `ls` again, the afile.txt should appear. Lets try to edit this file. There are many tools, and depending on how you are sshing into the clusters they might change. I will focus in the native reader of unix **nano**:"
   ]
  },
  {
   "cell_type": "code",
   "execution_count": null,
   "metadata": {},
   "outputs": [],
   "source": [
    "nano afile.txt"
   ]
  },
  {
   "cell_type": "markdown",
   "metadata": {},
   "source": [
    "You should see something like this:\n",
    "<img src=\"files/images/nano.png\" width=\"500px\">\n",
    "You can write anything you want there. Lets try just typing \"this is a test file\". To close and save you have to press the ``ctrl + x``. It will ask you if you want to save what you just write, type `Y` and `enter`.\n",
    "So you might be asking if you have to open nano everytime you need to read the file without modyfying it? The answer is no. There are a few commands you can use:\n",
    "* cat if your file is small\n",
    "* head if you want to see the first few lines of your file\n",
    "* tail if you want to see the last few lines of your file\n",
    "If you execute `cat afile.txt` it will show you what you just wrote. Cat will output the entire content of the file to screen. That is why is only wise to use it in small files or for certain manipulations (outside of the scope of this tutorial). The same way we can use head `head afile.txt` and tail `tail afile.txt`. In the litle single line file, all three commands should show exactly the same.\n",
    "\n",
    "Now let's remove that file with the command `rm`:"
   ]
  },
  {
   "cell_type": "code",
   "execution_count": null,
   "metadata": {},
   "outputs": [],
   "source": [
    "rm afile.txt"
   ]
  },
  {
   "cell_type": "markdown",
   "metadata": {},
   "source": [
    "Be very careful with the usage of `rm`, since **once you have use it in a file you cannot recover the file**.\n",
    "\n",
    "## Downloading from the web\n",
    "Now, we need a more substantial file to play around with, so let's download one from the web directly into the cluster!!! For this we will use the command `wget`:"
   ]
  },
  {
   "cell_type": "code",
   "execution_count": null,
   "metadata": {},
   "outputs": [],
   "source": [
    "wget https://raw.githubusercontent.com/jshleap/CristescuLab_misc/master/Tutorials/Bash/test_files/allponds.fasta"
   ]
  },
  {
   "cell_type": "markdown",
   "metadata": {},
   "source": [
    "This will download a fasta file with some sequences. As you probably know, a fasta file (!!!NOT A FASTQ) is formated like:\n",
    "```\n",
    ">SEQNAME OR INFO FOR SEQ1\n",
    "SEQUENCE\n",
    ">SEQNAME OR INFO FOR SEQ1\n",
    "SEQUENCE\n",
    "```\n",
    "\n",
    "## Exproring a file\n",
    "Now let's explore this file with the `cat`, `head`, and `tail` commands:"
   ]
  },
  {
   "cell_type": "code",
   "execution_count": null,
   "metadata": {},
   "outputs": [],
   "source": [
    "cat allponds.fasta"
   ]
  },
  {
   "cell_type": "code",
   "execution_count": null,
   "metadata": {},
   "outputs": [],
   "source": [
    "head allponds.fasta"
   ]
  },
  {
   "cell_type": "code",
   "execution_count": null,
   "metadata": {},
   "outputs": [],
   "source": [
    "head -n 5 allponds.fasta"
   ]
  },
  {
   "cell_type": "markdown",
   "metadata": {},
   "source": [
    "The `-n` flag in head tells the command how many lines to output!! Play around with it! The `tail` command works very similar but instead of showing the first `n` lines, it shows the `n` last:"
   ]
  },
  {
   "cell_type": "code",
   "execution_count": null,
   "metadata": {},
   "outputs": [],
   "source": [
    "tail -n 5 allponds.fasta # play around with it!"
   ]
  },
  {
   "cell_type": "markdown",
   "metadata": {},
   "source": [
    "#### Explore the file page by page\n",
    "Let's say that you'd like to see the file page by page instead of the whole thing at once and with more than a given number of lines. You can do this with the comands `less` and `more`."
   ]
  },
  {
   "cell_type": "code",
   "execution_count": null,
   "metadata": {},
   "outputs": [],
   "source": [
    "more allponds.fasta # to quit press Q,  to move return or space bar"
   ]
  },
  {
   "cell_type": "code",
   "execution_count": null,
   "metadata": {},
   "outputs": [],
   "source": [
    "less allponds.fasta # to quit press Q to move use arrows or space bar"
   ]
  },
  {
   "cell_type": "markdown",
   "metadata": {},
   "source": [
    "Let's imagine that you would like to see the total number of lines that this file has, you can use the word count command `wc`:"
   ]
  },
  {
   "cell_type": "code",
   "execution_count": 7,
   "metadata": {
    "scrolled": true
   },
   "outputs": [
    {
     "name": "stdout",
     "output_type": "stream",
     "text": [
      " 1000  1200 67931 ./test_files/allponds.fasta\r\n"
     ]
    }
   ],
   "source": [
    "wc allponds.fasta"
   ]
  },
  {
   "cell_type": "markdown",
   "metadata": {},
   "source": [
    "This tells us that the file has 1000 lines, 1200 words and 67931 characters. If we want just the number of lines we can use `wc -l`:"
   ]
  },
  {
   "cell_type": "code",
   "execution_count": 8,
   "metadata": {},
   "outputs": [
    {
     "name": "stdout",
     "output_type": "stream",
     "text": [
      "1000 ./test_files/allponds.fasta\r\n"
     ]
    }
   ],
   "source": [
    "wc -l allponds.fasta"
   ]
  },
  {
   "cell_type": "markdown",
   "metadata": {},
   "source": [
    "Great!! now we know that we have a 1000 lines file, but how many sequences do we have? Because allponds.fasta is a fasta (**not a fastq**), the sequences are indicated by the `>` symbol. This should be a unique symbol in fasta BUT NOT IN FASTQ. We will need to search occurencies of this symbol. Fortunately, bash have the very handy command `grep'."
   ]
  },
  {
   "cell_type": "code",
   "execution_count": 9,
   "metadata": {},
   "outputs": [
    {
     "name": "stdout",
     "output_type": "stream",
     "text": [
      ">M00833:667:000000000-BV9MW:1:2106:28755:11977 1:N:0:TAAGGCGA+GCGTAAGA;size=685;\r\n",
      ">M00833:667:000000000-BV9MW:1:2107:4035:17001 1:N:0:TAAGGCGA+GCGTAAGA;size=510;\r\n",
      ">M00833:667:000000000-BV9MW:1:2106:27458:12091 1:N:0:TAAGGCGA+GCGTAAGA;size=431;\r\n",
      ">M00833:667:000000000-BV9MW:1:2106:17802:12685 1:N:0:TAAGGCGA+GCGTAAGA;size=268;\r\n",
      ">M00833:667:000000000-BV9MW:1:2106:23093:11024 1:N:0:TAAGGCGA+GCGTACGA;size=217;\r\n",
      ">M00833:667:000000000-BV9MW:1:2107:17986:18261 1:N:0:TAAGGCGA+GCGTAAGA;size=200;\r\n",
      ">M00833:667:000000000-BV9MW:1:2107:24169:15780 1:N:0:TAAGGCGA+GCGTAAGA;size=198;\r\n",
      ">M00833:667:000000000-BV9MW:1:2106:7985:12895 1:N:0:TAAGGCGA+GCGTAAGA;size=163;\r\n",
      ">M00833:667:000000000-BV9MW:1:2109:9233:9403 1:N:0:TAAGGCGA+GCGTAAGA;size=137;\r\n",
      ">M00833:667:000000000-BV9MW:1:2107:19829:15122 1:N:0:TAAGGCGA+GCGTAAGA;size=99;\r\n"
     ]
    }
   ],
   "source": [
    "grep '>' allponds.fasta"
   ]
  },
  {
   "cell_type": "markdown",
   "metadata": {},
   "source": [
    "Well, this gave us all the lines where `>` is found in the file, which is useful, but not what we where looking for. We would like to count the lines to know the number of sequences we have. Fortunately, grep has the -c option:"
   ]
  },
  {
   "cell_type": "code",
   "execution_count": 10,
   "metadata": {},
   "outputs": [
    {
     "name": "stdout",
     "output_type": "stream",
     "text": [
      "200\r\n"
     ]
    }
   ],
   "source": [
    "grep -c '>' allponds.fasta"
   ]
  },
  {
   "cell_type": "markdown",
   "metadata": {},
   "source": [
    "Perfect!! it tell us that there are 200!!! Can this fail? YES! if there are more `>` in the file in lines that are not the sequence. However, if you had a `>` is the sequence of a fasta file, it would be a wrongly formatted file. Why am I telling you this? beacuse dealing with fastq files is a different story. I will get back at this later in the tutorial, but keep it in mind.\n",
    "\n",
    "\n",
    "### To recap:\n",
    "1. To list all files and directories use `ls`\n",
    "2. To move to a given directory use `cd`\n",
    "3. To create a folder use `mkdir`\n",
    "4. To remove a **file** use `rm`\n",
    "5. To create an empty file use `touch`\n",
    "6. To natively edit a file use `nano`\n",
    "7. To explore a file page by page use `less` or `more`\n",
    "8. To count the number of lines, words and characters in a file use `wc`\n",
    "9. To count exclusively the number of lines in a file use `wc -l`\n",
    "10. To find a pattern in a file use `grep`\n",
    "11. To find a pattern in a file and count the occurences use `grep -c`"
   ]
  },
  {
   "cell_type": "markdown",
   "metadata": {},
   "source": [
    "## Regular expressions and pipes\n",
    "OK, so far we can move from one directory to another, we can create directories and files, remove files"
   ]
  },
  {
   "cell_type": "code",
   "execution_count": null,
   "metadata": {},
   "outputs": [],
   "source": []
  }
 ],
 "metadata": {
  "kernelspec": {
   "display_name": "Python 3",
   "language": "python",
   "name": "python3"
  },
  "language_info": {
   "codemirror_mode": {
    "name": "ipython",
    "version": 3
   },
   "file_extension": ".py",
   "mimetype": "text/x-python",
   "name": "python",
   "nbconvert_exporter": "python",
   "pygments_lexer": "ipython3",
   "version": "3.5.2"
  }
 },
 "nbformat": 4,
 "nbformat_minor": 2
}
