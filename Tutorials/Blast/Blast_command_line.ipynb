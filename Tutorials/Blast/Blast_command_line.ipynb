{
 "cells": [
  {
   "cell_type": "markdown",
   "metadata": {},
   "source": [
    "# *Blast Command Line Tutorial*\n",
    "\n",
    "We will discuss basic usage of the blast+ tools (available in graham and cedar or at the [NCBI FTP](ftp://ftp.ncbi.nlm.nih.gov/blast/executables/blast+/LATEST/)).\n",
    "\n",
    "## *Objectives / learning outcomes:*\n",
    "At the end of this tutorial you shoud be able to:\n",
    "1. Download databases from NCBI \n",
    "2. Create your own custom local database\n",
    "3. Do a basic/intermediate nucleotide blast search\n",
    "4. Change the search parameters to fulfill your needs\n",
    "5. Search for help regarding the available parameters\n",
    "\n",
    "## *Prerequisites:*\n",
    "Before we start, make sure you went over your bash notes, since we will be using several of the commands we saw in prevoious tutorials. Despite I will touch briefly on the web-based blast, I am assuming you know the basics on how to make blast searches on the [BLAST website](https://blast.ncbi.nlm.nih.gov/Blast.cgi).\n",
    "\n",
    "\n",
    "I will discuss only the `blastn` (nucleotide blast) for time sake, but will comment on other types of blasts briefly.\n",
    "\n",
    "## Outline of the tutorial\n",
    "1. Introduction to BLAST: Types of databases, searches (this is brief, remember to brush up on this)\n",
    "2. Downloading databases from NCBI FTP with `update_blastdb.pl`\n",
    "3. Creating local databases with `makeblastdb`\n",
    "4. Basic `blastn` search\n",
    "5. Tunning parameters\n",
    "6. Basic bash manipulation of output\n",
    "\n",
    "## Before we start\n",
    "Log in into your Compute Canada account, create a folder for this tutorial (e.g Blast_tutorial), and open an interactive shell with salloc as we explained last tutorial with 2GB of memory. in the terminal type (remember to change the account for your own group if you are not in Cristescu lab):\n",
    "\n",
    "```bash\n",
    "salloc -A def-mcristes --mem=2000 \n",
    "module load nixpkgs/16.09  gcc/5.4.0 blast+/2.6.0\n",
    "update_blastdb.pl patnt --decompress\n",
    "```\n",
    "\n",
    "\n",
    "Let it run in the background, we will get back at this, but it takes some time (about 10 mins after allocation)!!\n",
    "\n",
    "## Introduction to BLAST\n",
    "BLAST or Basic Local Alignment Search Tool, is an alignment service available at [NCBI](https://blast.ncbi.nlm.nih.gov/Blast.cgi). As its name exlpains, this software aligns a query sequence (your sequence) with the database sequences, and returns the closest match to your query. It does this in 4 steps (images from [Alarfaj et al.](https://www.doi.org/10.4172/jcsb.1000260)):\n",
    "\n",
    "1. Preprocessing\n",
    "<img src=\"https://raw.githubusercontent.com/jshleap/CristescuLab_misc/master/Tutorials/Blast/img/pre_processing.png\" alt=\"alt text\" width=\"3000\">\n",
    "2. Seeding\n",
    "![alt text](https://raw.githubusercontent.com/jshleap/CristescuLab_misc/master/Tutorials/Blast/img/Seeding-step.png)\n",
    "3. Extension\n",
    "![alt text](https://raw.githubusercontent.com/jshleap/CristescuLab_misc/master/Tutorials/Blast/img/extension_step.png)\n",
    "4. Evaluation\n",
    "![alt text](https://raw.githubusercontent.com/jshleap/CristescuLab_misc/master/Tutorials/Blast/img/evaluation_step.png)\n",
    "\n",
    "Let's check their [webpage](https://blast.ncbi.nlm.nih.gov/Blast.cgi) and run an example blast\n",
    "\n",
    "\n",
    "## Downloading databases from NCBI FTP with update_blastdb.pl\n"
   ]
  },
  {
   "cell_type": "code",
   "execution_count": null,
   "metadata": {},
   "outputs": [],
   "source": []
  }
 ],
 "metadata": {
  "kernelspec": {
   "display_name": "Python 3",
   "language": "python",
   "name": "python3"
  },
  "language_info": {
   "codemirror_mode": {
    "name": "ipython",
    "version": 3
   },
   "file_extension": ".py",
   "mimetype": "text/x-python",
   "name": "python",
   "nbconvert_exporter": "python",
   "pygments_lexer": "ipython3",
   "version": "3.5.2"
  }
 },
 "nbformat": 4,
 "nbformat_minor": 2
}
